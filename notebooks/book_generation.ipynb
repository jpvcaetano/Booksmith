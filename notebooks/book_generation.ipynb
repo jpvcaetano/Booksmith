{
 "cells": [
  {
   "cell_type": "markdown",
   "id": "eaa89a13",
   "metadata": {
    "vscode": {
     "languageId": "raw"
    }
   },
   "source": [
    "# 📚 Booksmith - Book Generation\n",
    "\n",
    "Simple interface for generating complete books using AI.\n"
   ]
  },
  {
   "cell_type": "markdown",
   "id": "75a7d79e",
   "metadata": {
    "vscode": {
     "languageId": "raw"
    }
   },
   "source": [
    "## Setup\n"
   ]
  },
  {
   "cell_type": "code",
   "execution_count": null,
   "id": "02280d46",
   "metadata": {},
   "outputs": [],
   "source": [
    "import sys\n",
    "import os\n",
    "import pickle\n",
    "import gzip\n",
    "from pathlib import Path\n",
    "\n",
    "# Add parent directory to path\n",
    "sys.path.append(os.path.dirname(os.getcwd()))\n",
    "\n",
    "# Load environment variables\n",
    "from dotenv import load_dotenv\n",
    "load_dotenv()\n",
    "\n",
    "# Import Booksmith modules\n",
    "from booksmith import (\n",
    "    Book, Character, Chapter,\n",
    "    LLMConfig,\n",
    "    WritingAgent\n",
    ")\n",
    "\n",
    "# Import EPUB generator\n",
    "from booksmith.utils.epub_generator import create_book_epub\n",
    "\n",
    "print(\"✅ Modules imported successfully\")\n"
   ]
  },
  {
   "cell_type": "markdown",
   "id": "47b88f74",
   "metadata": {
    "vscode": {
     "languageId": "raw"
    }
   },
   "source": [
    "## 1. Choose Backend and Initialize Agent\n"
   ]
  },
  {
   "cell_type": "code",
   "execution_count": null,
   "id": "d47869be",
   "metadata": {},
   "outputs": [],
   "source": [
    "# Configure OpenAI backend\n",
    "config = LLMConfig(\n",
    "    model_name=\"gpt-4.1\", \n",
    "    max_tokens=32768, \n",
    "    temperature=0.7, \n",
    "    api_key=os.environ.get(\"OPENAI_API_KEY\")\n",
    ")\n",
    "\n",
    "# Initialize agent\n",
    "agent = WritingAgent(config)\n",
    "\n",
    "print(f\"✅ Agent initialized with OpenAI backend\")\n",
    "print(f\"📦 Model: {config.model_name}\")\n",
    "print(f\"💾 Memory usage: {agent.get_memory_usage()}\")\n"
   ]
  },
  {
   "cell_type": "markdown",
   "id": "650f0873",
   "metadata": {
    "vscode": {
     "languageId": "raw"
    }
   },
   "source": [
    "## 2. Initialize Book Object\n"
   ]
  },
  {
   "cell_type": "code",
   "execution_count": null,
   "id": "e90a0697",
   "metadata": {},
   "outputs": [],
   "source": [
    "# Create book with your prompt and preferences\n",
    "book = Book(\n",
    "    base_prompt=\"A Clara Costa é enfermeira nos cuidados intensivos num hospital e o João Caetano é Engenheiro de IA. A Clara é elegante e magra, com um cabelo e uns olhos lindos castanhos. O João é mais bem constituido, tem cabelo e olhos castanhos escuros. Eles estão noivos e moram juntos num pequeno apartamento em Moscavide. Gostam muito de ir a Tavira, é o happy place deles. Os dois iam para lá com as respectivas familias desde pequenos sem nunca se teram encontrado lá. Os dois são o maximo felizes quando lá estão juntos. O João gosta também muito de hikes e contacto com a natureza mas a Clara perfere ficar mais por casa ou ir à praia. Os dois são muito amigos estando sempre na galhofa. A historia é passada maioritariamente em Tavira\",\n",
    "    genre=\"Literary Fiction\",\n",
    "    writing_style=\"Sophia de Mello Breyner Andresen writing style\",\n",
    "    target_audience=\"Children and Young Readers\",\n",
    "    language=\"portuguese from Portugal\"\n",
    ")\n",
    "\n",
    "print(\"📚 Book initialized\")\n",
    "print(f\"Genre: {book.genre}\")\n",
    "print(f\"Style: {book.writing_style}\")\n",
    "print(f\"Language: {book.language}\")\n"
   ]
  },
  {
   "cell_type": "markdown",
   "id": "e0940f14",
   "metadata": {
    "vscode": {
     "languageId": "raw"
    }
   },
   "source": [
    "## 3. Generate Story Summary\n"
   ]
  },
  {
   "cell_type": "code",
   "execution_count": null,
   "id": "cfa4d709",
   "metadata": {},
   "outputs": [],
   "source": [
    "# Generate story summary\n",
    "agent.generate_story_summary(book)\n",
    "\n",
    "print(\"✅ Story summary generated\")\n",
    "print(f\"📝 Summary ({len(book.story_summary)} chars):\")\n",
    "print(\"-\" * 50)\n",
    "print(book.story_summary)\n",
    "print(\"-\" * 50)\n"
   ]
  },
  {
   "cell_type": "markdown",
   "id": "503dd953",
   "metadata": {
    "vscode": {
     "languageId": "raw"
    }
   },
   "source": [
    "## 4. Generate Book Title\n"
   ]
  },
  {
   "cell_type": "code",
   "execution_count": null,
   "id": "048f01b1",
   "metadata": {},
   "outputs": [],
   "source": [
    "# Generate book title\n",
    "agent.generate_title(book)\n",
    "\n",
    "print(\"✅ Book title generated\")\n",
    "print(f\"📚 Title: \\\"{book.title}\\\"\")\n"
   ]
  },
  {
   "cell_type": "markdown",
   "id": "22f99d7a",
   "metadata": {
    "vscode": {
     "languageId": "raw"
    }
   },
   "source": [
    "## 5. Generate Characters\n"
   ]
  },
  {
   "cell_type": "code",
   "execution_count": null,
   "id": "f87623a7",
   "metadata": {},
   "outputs": [],
   "source": [
    "# Generate characters\n",
    "agent.generate_characters(book)\n",
    "\n",
    "print(f\"✅ Characters generated ({len(book.characters)} characters)\")\n",
    "for i, character in enumerate(book.characters, 1):\n",
    "    print(f\"\\n{i}. {character.name}\")\n",
    "    print(f\"   Role: {character.role}\")\n",
    "    print(f\"   Personality: {character.personality}\")\n",
    "    if character.appearance:\n",
    "        print(f\"   Appearance: {character.appearance}\")\n",
    "    if character.background_story:\n",
    "        print(f\"   Background: {character.background_story}\")\n"
   ]
  },
  {
   "cell_type": "markdown",
   "id": "2f39d19d",
   "metadata": {
    "vscode": {
     "languageId": "raw"
    }
   },
   "source": [
    "## 6. Generate Chapter Plan\n"
   ]
  },
  {
   "cell_type": "code",
   "execution_count": null,
   "id": "6fbb2925",
   "metadata": {},
   "outputs": [],
   "source": [
    "# Generate chapter plan\n",
    "agent.generate_chapter_plan(book)\n",
    "\n",
    "print(f\"✅ Chapter plan generated ({len(book.chapters)} chapters)\")\n",
    "for chapter in book.chapters:\n",
    "    print(f\"\\nChapter {chapter.chapter_number}: {chapter.title}\")\n",
    "    print(f\"Summary: {chapter.summary}\")\n",
    "    if chapter.key_characters:\n",
    "        print(f\"Key characters: {', '.join(chapter.key_characters)}\")\n",
    "    if chapter.plot_points:\n",
    "        print(f\"Plot points: {'; '.join(chapter.plot_points)}\")\n"
   ]
  },
  {
   "cell_type": "markdown",
   "id": "296ff865",
   "metadata": {
    "vscode": {
     "languageId": "raw"
    }
   },
   "source": [
    "## 7. Generate All Chapter Content\n"
   ]
  },
  {
   "cell_type": "code",
   "execution_count": null,
   "id": "559de769",
   "metadata": {},
   "outputs": [],
   "source": [
    "# Generate content for all chapters\n",
    "total_words = 0\n",
    "for i, chapter in enumerate(book.chapters, 1):\n",
    "    print(f\"📝 Writing Chapter {chapter.chapter_number}: {chapter.title}\")\n",
    "    agent.write_chapter_content(book, chapter)\n",
    "    \n",
    "    word_count = len(chapter.content.split()) if chapter.content else 0\n",
    "    total_words += word_count\n",
    "    print(f\"   ✅ {word_count:,} words written\")\n",
    "    \n",
    "    # Show preview of first chapter\n",
    "    if i == 1 and chapter.content:\n",
    "        preview = chapter.content[:200] + \"...\" if len(chapter.content) > 200 else chapter.content\n",
    "        print(f\"   Preview: {preview}\")\n",
    "\n",
    "print(f\"\\n✅ All chapters written\")\n",
    "print(f\"📊 Total words: {total_words:,}\")\n",
    "print(f\"📊 Average per chapter: {total_words // len(book.chapters):,}\")\n"
   ]
  },
  {
   "cell_type": "markdown",
   "id": "471f4ee6",
   "metadata": {
    "vscode": {
     "languageId": "raw"
    }
   },
   "source": [
    "## 8. Optional: Complete Book Generation (Alternative)\n"
   ]
  },
  {
   "cell_type": "code",
   "execution_count": null,
   "id": "4cf8c2a3",
   "metadata": {},
   "outputs": [],
   "source": [
    "# Alternative: Use the complete book generation in one call\n",
    "# Uncomment the lines below to generate everything at once instead of step-by-step\n",
    "\n",
    "# new_book = Book(\n",
    "#     base_prompt=\"Your story prompt here...\",\n",
    "#     genre=\"Your genre\",\n",
    "#     writing_style=\"Your preferred style\",\n",
    "#     target_audience=\"Your audience\",\n",
    "#     language=\"Your language\"\n",
    "# )\n",
    "# \n",
    "# print(\"🚀 Generating complete book...\")\n",
    "# agent.write_full_book(new_book)\n",
    "# print(\"✅ Complete book generated!\")\n",
    "\n",
    "print(\"💡 This section shows how to generate a complete book in one function call.\")\n",
    "print(\"💡 Uncomment the code above to use this alternative approach.\")\n"
   ]
  },
  {
   "cell_type": "markdown",
   "id": "6e54ec06",
   "metadata": {
    "vscode": {
     "languageId": "raw"
    }
   },
   "source": [
    "## 9. Save Book and Generate EPUB\n"
   ]
  },
  {
   "cell_type": "code",
   "execution_count": null,
   "id": "2792b7cc",
   "metadata": {},
   "outputs": [],
   "source": [
    "# Create book-specific folder and save files\n",
    "from datetime import datetime\n",
    "\n",
    "# Create book folder name using title and timestamp\n",
    "book_title_safe = \"\".join(c for c in book.title if c.isalnum() or c in (' ', '-', '_')).rstrip()\n",
    "timestamp = datetime.now().strftime(\"%Y%m%d_%H%M%S\")\n",
    "book_folder_name = f\"{book_title_safe}_{timestamp}\"\n",
    "book_folder_path = Path(\"notebooks\") / book_folder_name\n",
    "\n",
    "# Create the folder\n",
    "book_folder_path.mkdir(parents=True, exist_ok=True)\n",
    "\n",
    "# Save as pickle file\n",
    "pickle_filename = f\"{book_title_safe}.pkl.gz\"\n",
    "pickle_path = book_folder_path / pickle_filename\n",
    "\n",
    "with gzip.open(pickle_path, 'wb') as f:\n",
    "    pickle.dump(book, f)\n",
    "\n",
    "# Generate EPUB using the epub_generator\n",
    "epub_folder = create_book_epub(book, str(book_folder_path))\n",
    "\n",
    "print(f\"✅ Book saved successfully!\")\n",
    "print(f\"📁 Folder: {book_folder_path}\")\n",
    "print(f\"💾 Pickle file: {pickle_filename}\")\n",
    "print(f\"📚 EPUB generated in folder\")\n",
    "\n",
    "# Display final stats\n",
    "total_words = sum(len(ch.content.split()) for ch in book.chapters if ch.content)\n",
    "print(f\"\\n📊 Final Book Statistics:\")\n",
    "print(f\"Title: {book.title}\")\n",
    "print(f\"Chapters: {len(book.chapters)}\")\n",
    "print(f\"Characters: {len(book.characters)}\")\n",
    "print(f\"Total words: {total_words:,}\")\n"
   ]
  },
  {
   "cell_type": "code",
   "execution_count": null,
   "id": "6428c093",
   "metadata": {},
   "outputs": [],
   "source": [
    "# read a pickled book\n",
    "import pickle\n",
    "import gzip\n",
    "from pathlib import Path\n",
    "\n",
    "pickle_path = Path(\"/Users/joaocaetano/projects/Booksmith/notebooks/notebooks/Leonor e a Concha das Vozes Perdidas_20250722_162200/Leonor e a Concha das Vozes Perdidas.pkl.gz\")\n",
    "with gzip.open(pickle_path, 'rb') as f:\n",
    "    book = pickle.load(f)\n",
    "\n",
    "epub_folder = create_book_epub(book, str(\"/Users/joaocaetano/projects/Booksmith/notebooks/notebooks/Leonor e a Concha das Vozes Perdidas_20250722_162200\"))"
   ]
  },
  {
   "cell_type": "code",
   "execution_count": null,
   "id": "6bddee26",
   "metadata": {},
   "outputs": [],
   "source": []
  }
 ],
 "metadata": {
  "kernelspec": {
   "display_name": "worldpanel-trip-classification-9wSaF1Ow-py3.13",
   "language": "python",
   "name": "python3"
  },
  "language_info": {
   "codemirror_mode": {
    "name": "ipython",
    "version": 3
   },
   "file_extension": ".py",
   "mimetype": "text/x-python",
   "name": "python",
   "nbconvert_exporter": "python",
   "pygments_lexer": "ipython3",
   "version": "3.13.3"
  }
 },
 "nbformat": 4,
 "nbformat_minor": 5
}
